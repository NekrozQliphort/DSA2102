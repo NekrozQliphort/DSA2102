{
 "cells": [
  {
   "cell_type": "code",
   "execution_count": 1,
   "id": "a205ec9c",
   "metadata": {},
   "outputs": [],
   "source": [
    "import numpy as np"
   ]
  },
  {
   "cell_type": "code",
   "execution_count": 2,
   "id": "582824a5",
   "metadata": {},
   "outputs": [],
   "source": [
    "eps = 1e-9\n",
    "\n",
    "def verify_matmul(A, B, res):\n",
    "    return np.all(np.abs(res - np.matmul(A,B)) < eps)"
   ]
  },
  {
   "cell_type": "code",
   "execution_count": 3,
   "id": "bf6f80e0",
   "metadata": {},
   "outputs": [],
   "source": [
    "# Assumes A is n * n lower triangular matrix and B is n * n upper triangular matrix\n",
    "def matmulLU(A, B):\n",
    "    n = A.shape[0]\n",
    "    res, opcnt = np.empty([n,n]), 0\n",
    "    for i in range(n):\n",
    "        for j in range(n):\n",
    "            t = 0\n",
    "            for k in range(min(i+1,j+1)):\n",
    "                t += A[i][k] * B[k][j]\n",
    "                opcnt += 2 # One for multiply, one for addition\n",
    "            opcnt -= 1 # First one didn't need to perform addition\n",
    "            res[i][j] = t\n",
    "    return res, opcnt"
   ]
  },
  {
   "cell_type": "code",
   "execution_count": 4,
   "id": "9130fccc",
   "metadata": {},
   "outputs": [],
   "source": [
    "n = 10\n",
    "testCnt = 10\n",
    "eps = 1e-9\n",
    "# Derived formula for Qn 1\n",
    "expected_op_cnt = (2 * n**3 + n) // 3\n",
    "\n",
    "for _ in range(testCnt):\n",
    "    A = np.tril(np.random.rand(n,n))\n",
    "    B = np.triu(np.random.rand(n,n))\n",
    "    expected = np.matmul(A,B)\n",
    "    res, opcnt = matmulLU(A,B)\n",
    "    if not verify_matmul(A, B, res) or expected_op_cnt != opcnt:\n",
    "        print(\"Mistake spotted\", res , expected, sep =\"\\n\")"
   ]
  },
  {
   "cell_type": "markdown",
   "id": "50cee4bd",
   "metadata": {},
   "source": [
    "Formula for Qn 1 = $\\sum_{i=1}^{n} \\sum_{j=1}^{n} 2\\times\\min\\{i,j\\} - 1 = \\frac{1}{3}(2n^3 + n)$"
   ]
  }
 ],
 "metadata": {
  "kernelspec": {
   "display_name": "Python 3 (ipykernel)",
   "language": "python",
   "name": "python3"
  },
  "language_info": {
   "codemirror_mode": {
    "name": "ipython",
    "version": 3
   },
   "file_extension": ".py",
   "mimetype": "text/x-python",
   "name": "python",
   "nbconvert_exporter": "python",
   "pygments_lexer": "ipython3",
   "version": "3.10.6"
  }
 },
 "nbformat": 4,
 "nbformat_minor": 5
}
