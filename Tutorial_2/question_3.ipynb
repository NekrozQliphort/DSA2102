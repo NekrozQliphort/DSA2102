{
 "cells": [
  {
   "cell_type": "code",
   "execution_count": 1,
   "id": "28e54f7f",
   "metadata": {},
   "outputs": [],
   "source": [
    "import numpy as np"
   ]
  },
  {
   "cell_type": "code",
   "execution_count": 2,
   "id": "1331b03f",
   "metadata": {},
   "outputs": [],
   "source": [
    "# Gaussian elimination with partial pivoting\n",
    "# Equation is Ax = b\n",
    "# Only solves when there are n eqns for n variables\n",
    "# Destructive on A\n",
    "\n",
    "def gaussian_elim_with_partial_pivoting(A, b):\n",
    "    if ((n := A.shape[0]) != A.shape[1] or n != len(b)): return None\n",
    "    \n",
    "    for i in range(n):\n",
    "        max_idx = np.argmax(A[i:,i]) + i\n",
    "        A[[i, max_idx],i:], b[[i,max_idx]] = A[[max_idx, i],i:], b[[max_idx, i]]\n",
    "        \n",
    "        for k in range(i+1,n):\n",
    "            if (A[i][i] == 0): return None\n",
    "            factor = A[k][i] / A[i][i]\n",
    "            A[k,i+1:] -= factor * A[i,i+1:]\n",
    "            b[k] -= factor * b[i]\n",
    "        \n",
    "    for i in range(n-1, -1, -1):\n",
    "        b[i] /= A[i][i]\n",
    "        for k in range(i): b[k] -= A[k][i] * b[i]\n",
    "    \n",
    "    return b"
   ]
  },
  {
   "cell_type": "code",
   "execution_count": 3,
   "id": "2e9c521e",
   "metadata": {},
   "outputs": [
    {
     "name": "stdout",
     "output_type": "stream",
     "text": [
      "All good\n"
     ]
    }
   ],
   "source": [
    "n = 7\n",
    "testcnt = 10\n",
    "eps = 1e-9\n",
    "mistake = False\n",
    "\n",
    "for _ in range(testcnt):\n",
    "    A = np.random.rand(n,n)\n",
    "    b = np.random.rand(n)\n",
    "    expected = np.linalg.solve(A, b)\n",
    "    actual = gaussian_elim_with_partial_pivoting(A, b)\n",
    "    if (np.all(np.abs(expected - actual) > eps)):\n",
    "        print(\"Mistake spotted\")\n",
    "        mistake = True\n",
    "\n",
    "if (not mistake): print(\"All good\")"
   ]
  }
 ],
 "metadata": {
  "kernelspec": {
   "display_name": "Python 3 (ipykernel)",
   "language": "python",
   "name": "python3"
  },
  "language_info": {
   "codemirror_mode": {
    "name": "ipython",
    "version": 3
   },
   "file_extension": ".py",
   "mimetype": "text/x-python",
   "name": "python",
   "nbconvert_exporter": "python",
   "pygments_lexer": "ipython3",
   "version": "3.10.6"
  }
 },
 "nbformat": 4,
 "nbformat_minor": 5
}
